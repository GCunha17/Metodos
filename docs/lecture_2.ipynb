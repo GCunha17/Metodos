{
 "cells": [
  {
   "cell_type": "markdown",
   "metadata": {},
   "source": [
    "**Operadores $+$, $-$, $*$, $/$ e $\\%$**\n",
    "\n",
    "Aqui, as quatro primeiras operações se comportam como esperado: dados dois números $x$ e $y$, $x+y$ tem como resultado a soma de $x$ com $y$, $x-y$ a subtração, $x*y$ a multiplicação, e $x/y$ a divisão. O operador $\\%$ dá o módulo da congruência entre $x$ e $y$, por exemplo, $\\%(5,3) = 2$, pois $5\\equiv 3 \\, \\, \\, (\\textrm{mod} \\, 2)$."
   ]
  },
  {
   "cell_type": "markdown",
   "metadata": {},
   "source": [
    "**Atualização de Variáveis**\n",
    "\n",
    "Em geral, podemos assinalar um valor (seja ele um número, um string, um valor de verdade, entre outros) à uma variável qualquer se utilizando do $``=\"$. Por exemplo, podemos assinalar o valor $``10.0\"$ à variável $``x\"$ com o comando $x = 10.0$. \n",
    "\n",
    "No caso de números, temos algumas opções a mais de como redefinir variáveis. Continuando com $``x = 10.0\"$, Caso quisermos redefinir $x$ como $x + 5$, ao invés de digitarmos $ x = x + 5$, podemos nos utilizar do comando $ x += 5$. "
   ]
  },
  {
   "cell_type": "code",
   "execution_count": 119,
   "metadata": {},
   "outputs": [
    {
     "data": {
      "text/plain": [
       "15.0"
      ]
     },
     "metadata": {},
     "output_type": "display_data"
    }
   ],
   "source": [
    "x = 10.0\n",
    "x += 5.0\n",
    "x"
   ]
  },
  {
   "cell_type": "markdown",
   "metadata": {},
   "source": [
    "Similarmente, podemos nos utilizar dos comandos $``-=\"$, $``*=\"$ e $``/=\"$ para realizar o mesmo processo com a subtração, a multiplicação, e a divisão, respectivamente."
   ]
  },
  {
   "cell_type": "markdown",
   "metadata": {},
   "source": [
    "**Parse**\n",
    "\n",
    "O comando parse transforma é utilizado para converter valores do tipo _string_ num valor númerico desejado, quando possível."
   ]
  },
  {
   "cell_type": "code",
   "execution_count": 120,
   "metadata": {},
   "outputs": [
    {
     "data": {
      "text/plain": [
       "20"
      ]
     },
     "metadata": {},
     "output_type": "display_data"
    }
   ],
   "source": [
    "parse(Int64,\"20\")"
   ]
  },
  {
   "cell_type": "code",
   "execution_count": 121,
   "metadata": {},
   "outputs": [
    {
     "data": {
      "text/plain": [
       "2.71"
      ]
     },
     "metadata": {},
     "output_type": "display_data"
    }
   ],
   "source": [
    "parse(Float64,\"2.71\")"
   ]
  },
  {
   "cell_type": "markdown",
   "metadata": {},
   "source": [
    "**Tipagem de funções**\n",
    "\n",
    "Cada função em julia recebe e devolve certos _tipos_ de valores. A função parse mencionada acima, por exemplo, recebe um valor do tipo _string_ e retorna um valor numérico com um tipo apropriado para tal. Podemos também definir novas funções, e vamos criar uma para explicitar melhor essa relação de tipos que uma função pode receber."
   ]
  },
  {
   "cell_type": "code",
   "execution_count": 122,
   "metadata": {},
   "outputs": [
    {
     "data": {
      "text/plain": [
       "ex (generic function with 3 methods)"
      ]
     },
     "metadata": {},
     "output_type": "display_data"
    }
   ],
   "source": [
    "function ex(x)\n",
    "    return x + 1\n",
    "end"
   ]
  },
  {
   "cell_type": "markdown",
   "metadata": {},
   "source": [
    "Aqui, definimos uma nova funcão \"ex\", que tem como entrada um $x$ sem tipo definido, e que retorna o resultado de somar $x$ com $1$. "
   ]
  },
  {
   "cell_type": "code",
   "execution_count": 123,
   "metadata": {},
   "outputs": [
    {
     "data": {
      "text/plain": [
       "6.0"
      ]
     },
     "metadata": {},
     "output_type": "display_data"
    }
   ],
   "source": [
    "ex(5.0)"
   ]
  },
  {
   "cell_type": "code",
   "execution_count": 124,
   "metadata": {},
   "outputs": [
    {
     "data": {
      "text/plain": [
       "4"
      ]
     },
     "metadata": {},
     "output_type": "display_data"
    }
   ],
   "source": [
    "ex(5)"
   ]
  },
  {
   "cell_type": "code",
   "execution_count": 125,
   "metadata": {},
   "outputs": [
    {
     "data": {
      "text/plain": [
       "\"Você digitou Abc\""
      ]
     },
     "metadata": {},
     "output_type": "display_data"
    }
   ],
   "source": [
    "ex(\"Abc\")"
   ]
  },
  {
   "cell_type": "markdown",
   "metadata": {},
   "source": [
    "Veja que, ao utilizar a função ex com valores de tipo Int e Float, temos resultados de tipo Int e Float, mas a função não funciona com valores de tipo string, pois não há uma maneira (pelo menos não trivialmente) de somar palavras com um número.\n",
    "\n",
    "Dito isso, podemos definir comportamentos diferentes para a função ex dependendo do tipo da entrada que damos para ela."
   ]
  },
  {
   "cell_type": "code",
   "execution_count": 126,
   "metadata": {},
   "outputs": [
    {
     "data": {
      "text/plain": [
       "ex (generic function with 3 methods)"
      ]
     },
     "metadata": {},
     "output_type": "display_data"
    }
   ],
   "source": [
    "function ex(x::Int64)\n",
    "    return x - 1\n",
    "end"
   ]
  },
  {
   "cell_type": "code",
   "execution_count": 127,
   "metadata": {},
   "outputs": [
    {
     "data": {
      "text/plain": [
       "ex (generic function with 3 methods)"
      ]
     },
     "metadata": {},
     "output_type": "display_data"
    }
   ],
   "source": [
    "function ex(x::String)\n",
    "    return \"Você digitou \"*x\n",
    "end"
   ]
  },
  {
   "cell_type": "code",
   "execution_count": 128,
   "metadata": {},
   "outputs": [
    {
     "data": {
      "text/plain": [
       "6.0"
      ]
     },
     "metadata": {},
     "output_type": "display_data"
    }
   ],
   "source": [
    "ex(5.0)"
   ]
  },
  {
   "cell_type": "code",
   "execution_count": 129,
   "metadata": {},
   "outputs": [
    {
     "data": {
      "text/plain": [
       "4"
      ]
     },
     "metadata": {},
     "output_type": "display_data"
    }
   ],
   "source": [
    "ex(5)"
   ]
  },
  {
   "cell_type": "code",
   "execution_count": 130,
   "metadata": {},
   "outputs": [
    {
     "data": {
      "text/plain": [
       "\"Você digitou yappers\""
      ]
     },
     "metadata": {},
     "output_type": "display_data"
    }
   ],
   "source": [
    "ex(\"yappers\")"
   ]
  },
  {
   "cell_type": "markdown",
   "metadata": {},
   "source": [
    "**Composição de funções**\n",
    "\n",
    "Considere as dues funções a seguir"
   ]
  },
  {
   "cell_type": "code",
   "execution_count": 131,
   "metadata": {},
   "outputs": [
    {
     "data": {
      "text/plain": [
       "g (generic function with 1 method)"
      ]
     },
     "metadata": {},
     "output_type": "display_data"
    }
   ],
   "source": [
    "f(x::Float64) = 2*x\n",
    "g(x::Float64) = x + 5"
   ]
  },
  {
   "cell_type": "markdown",
   "metadata": {},
   "source": [
    "Podemos realizar a composição $f \\circ g = f(g(x))$ de duas formas: "
   ]
  },
  {
   "cell_type": "code",
   "execution_count": 132,
   "metadata": {},
   "outputs": [
    {
     "data": {
      "text/plain": [
       "14.0"
      ]
     },
     "metadata": {},
     "output_type": "display_data"
    }
   ],
   "source": [
    "f(g(2.0))"
   ]
  },
  {
   "cell_type": "code",
   "execution_count": 133,
   "metadata": {},
   "outputs": [
    {
     "data": {
      "text/plain": [
       "14.0"
      ]
     },
     "metadata": {},
     "output_type": "display_data"
    }
   ],
   "source": [
    "2.0 |> g |> f"
   ]
  },
  {
   "cell_type": "markdown",
   "metadata": {},
   "source": [
    "**Operadores e operadores lógicos**\n",
    "\n",
    "Considere as seguintes variáveis"
   ]
  },
  {
   "cell_type": "code",
   "execution_count": 134,
   "metadata": {},
   "outputs": [
    {
     "data": {
      "text/plain": [
       "3.0"
      ]
     },
     "metadata": {},
     "output_type": "display_data"
    }
   ],
   "source": [
    "x = 3\n",
    "y = 3.0"
   ]
  },
  {
   "cell_type": "markdown",
   "metadata": {},
   "source": [
    "A seguir temos alguns operadores que irão realizar algumas comparações entre $x$ e $y$ e retornar valores de verdade \"true\" ou \"false\". Antes, segue um pequeno glossário do propósito de cada um:\n",
    "\n",
    "!= : retorna true se $x$ e $y$ não são iguais\n",
    "\n",
    "== : retorna true se $x$ e $y$ são (numericamente) iguais\n",
    "\n",
    "=== : retorna true se $x$ e $y$ são (numericamente) iguais *e* do mesmo tipo\n",
    "\n",
    "\\ne (≠) : mesmo que !=\n",
    "\n",
    "\">\" : retorna true se $x$ é estritamente maior que $y$\n",
    "\n",
    "\\geq (≥) : retorna true se $x$ é maior ou igual a $y$\n",
    "\n",
    "\"<\" : retorna true se $x$ é estritamente menor que $y$\n",
    "\n",
    "\\leq (≤) : retorna true se $x$ é menor ou igual a $y$"
   ]
  },
  {
   "cell_type": "code",
   "execution_count": 136,
   "metadata": {},
   "outputs": [
    {
     "data": {
      "text/plain": [
       "false"
      ]
     },
     "metadata": {},
     "output_type": "display_data"
    }
   ],
   "source": [
    "x != y"
   ]
  },
  {
   "cell_type": "code",
   "execution_count": 137,
   "metadata": {},
   "outputs": [
    {
     "data": {
      "text/plain": [
       "true"
      ]
     },
     "metadata": {},
     "output_type": "display_data"
    }
   ],
   "source": [
    "x == y"
   ]
  },
  {
   "cell_type": "code",
   "execution_count": 139,
   "metadata": {},
   "outputs": [
    {
     "data": {
      "text/plain": [
       "false"
      ]
     },
     "metadata": {},
     "output_type": "display_data"
    }
   ],
   "source": [
    "x === y"
   ]
  },
  {
   "cell_type": "code",
   "execution_count": 140,
   "metadata": {},
   "outputs": [
    {
     "data": {
      "text/plain": [
       "false"
      ]
     },
     "metadata": {},
     "output_type": "display_data"
    }
   ],
   "source": [
    "x ≠ y"
   ]
  },
  {
   "cell_type": "code",
   "execution_count": 141,
   "metadata": {},
   "outputs": [
    {
     "data": {
      "text/plain": [
       "false"
      ]
     },
     "metadata": {},
     "output_type": "display_data"
    }
   ],
   "source": [
    "x > y"
   ]
  },
  {
   "cell_type": "code",
   "execution_count": 142,
   "metadata": {},
   "outputs": [
    {
     "data": {
      "text/plain": [
       "true"
      ]
     },
     "metadata": {},
     "output_type": "display_data"
    }
   ],
   "source": [
    "x ≥ y"
   ]
  },
  {
   "cell_type": "code",
   "execution_count": 143,
   "metadata": {},
   "outputs": [
    {
     "data": {
      "text/plain": [
       "false"
      ]
     },
     "metadata": {},
     "output_type": "display_data"
    }
   ],
   "source": [
    "x < y"
   ]
  },
  {
   "cell_type": "code",
   "execution_count": 144,
   "metadata": {},
   "outputs": [
    {
     "data": {
      "text/plain": [
       "true"
      ]
     },
     "metadata": {},
     "output_type": "display_data"
    }
   ],
   "source": [
    "x ≤ y"
   ]
  },
  {
   "cell_type": "markdown",
   "metadata": {},
   "source": [
    "Agora, os operadores lógicos trabalham com entradas da forma \"true\" ou \"false\" e realizam operações lógicas (como na lógica proposicional clássica) com tais valores para retornar um valor de verdade. Alguns desses operadores incluem:\n",
    "\n",
    "&& : operador \"e\"\n",
    "\n",
    "|| : operador \"ou\"\n",
    "\n",
    "~ ou ! : operador \"negação\"\n",
    "\n",
    "xor : operador \"ou exclusivo\" (um ou outro, mas não os dois)"
   ]
  },
  {
   "cell_type": "code",
   "execution_count": null,
   "metadata": {},
   "outputs": [],
   "source": []
  }
 ],
 "metadata": {
  "kernelspec": {
   "display_name": "Julia 1.10.2",
   "language": "julia",
   "name": "julia-1.10"
  },
  "language_info": {
   "file_extension": ".jl",
   "mimetype": "application/julia",
   "name": "julia",
   "version": "1.10.2"
  }
 },
 "nbformat": 4,
 "nbformat_minor": 2
}
