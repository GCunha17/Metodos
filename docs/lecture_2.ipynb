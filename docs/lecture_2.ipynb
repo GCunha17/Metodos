{
 "cells": [
  {
   "cell_type": "markdown",
   "metadata": {},
   "source": [
    "**Operadores $+$, $-$, $*$, $/$ e $\\%$**\n",
    "\n",
    "Aqui, as quatro primeiras operações se comportam como esperado: dados dois números $x$ e $y$, $x+y$ tem como resultado a soma de $x$ com $y$, $x-y$ a subtração, $x*y$ a multiplicação, e $x/y$ a divisão. O operador $\\%$ dá o módulo da congruência entre $x$ e $y$, por exemplo, $\\%(5,3) = 2$, pois $5\\equiv 3 \\, \\, \\, (\\textrm{mod} \\, 2)$."
   ]
  },
  {
   "cell_type": "markdown",
   "metadata": {},
   "source": [
    "**Atualização de Variáveis**\n",
    "\n",
    "Em geral, podemos assinalar um valor (seja ele um número, um string, um valor de verdade, entre outros) à uma variável qualquer se utilizando do $``=\"$. Por exemplo, podemos assinalar o valor $``10.0\"$ à variável $``x\"$ com o comando $x = 10.0$. \n",
    "\n",
    "No caso de números, temos algumas opções a mais de como redefinir variáveis. Continuando com $``x = 10.0\"$, Caso quisermos redefinir $x$ como $x + 5$, ao invés de digitarmos $ x = x + 5$, podemos nos utilizar do comando $ x += 5$. "
   ]
  },
  {
   "cell_type": "code",
   "execution_count": 3,
   "metadata": {},
   "outputs": [
    {
     "data": {
      "text/plain": [
       "15.0"
      ]
     },
     "metadata": {},
     "output_type": "display_data"
    }
   ],
   "source": [
    "x = 10.0\n",
    "x += 5.0\n",
    "x"
   ]
  },
  {
   "cell_type": "markdown",
   "metadata": {},
   "source": [
    "Similarmente, podemos nos utilizar dos comandos $``-=\"$, $``*=\"$ e $``/=\"$ para realizar o mesmo processo com a subtração, a multiplicação, e a divisão, respectivamente."
   ]
  },
  {
   "cell_type": "markdown",
   "metadata": {},
   "source": [
    "**Parse**\n",
    "\n",
    "O comando parse transforma é utilizado para converter valores do tipo _string_ num valor númerico desejado, quando possível."
   ]
  },
  {
   "cell_type": "code",
   "execution_count": 4,
   "metadata": {},
   "outputs": [
    {
     "data": {
      "text/plain": [
       "20"
      ]
     },
     "metadata": {},
     "output_type": "display_data"
    }
   ],
   "source": [
    "parse(Int64,\"20\")"
   ]
  },
  {
   "cell_type": "code",
   "execution_count": 5,
   "metadata": {},
   "outputs": [
    {
     "data": {
      "text/plain": [
       "2.71"
      ]
     },
     "metadata": {},
     "output_type": "display_data"
    }
   ],
   "source": [
    "parse(Float64,\"2.71\")"
   ]
  },
  {
   "cell_type": "markdown",
   "metadata": {},
   "source": [
    "**Tipagem de funções**\n",
    "\n",
    "Cada função em julia recebe e devolve certos _tipos_ de valores. A função parse mencionada acima, por exemplo, recebe um valor do tipo _string_ e retorna um valor numérico com um tipo apropriado para tal. Podemos também definir novas funções, e vamos criar uma para explicitar melhor essa relação de tipos que uma função pode receber."
   ]
  },
  {
   "cell_type": "code",
   "execution_count": 6,
   "metadata": {},
   "outputs": [
    {
     "data": {
      "text/plain": [
       "ex (generic function with 1 method)"
      ]
     },
     "metadata": {},
     "output_type": "display_data"
    }
   ],
   "source": [
    "function ex(x)\n",
    "    return x + 1\n",
    "end"
   ]
  },
  {
   "cell_type": "markdown",
   "metadata": {},
   "source": [
    "Aqui, definimos uma nova funcão \"ex\", que tem como entrada um $x$ sem tipo definido, e que retorna o resultado de somar $x$ com $1$. "
   ]
  },
  {
   "cell_type": "code",
   "execution_count": 7,
   "metadata": {},
   "outputs": [
    {
     "data": {
      "text/plain": [
       "6.0"
      ]
     },
     "metadata": {},
     "output_type": "display_data"
    }
   ],
   "source": [
    "ex(5.0)"
   ]
  },
  {
   "cell_type": "code",
   "execution_count": 8,
   "metadata": {},
   "outputs": [
    {
     "data": {
      "text/plain": [
       "6"
      ]
     },
     "metadata": {},
     "output_type": "display_data"
    }
   ],
   "source": [
    "ex(5)"
   ]
  },
  {
   "cell_type": "code",
   "execution_count": 9,
   "metadata": {},
   "outputs": [
    {
     "ename": "MethodError",
     "evalue": "MethodError: no method matching +(::String, ::Int64)\n\nClosest candidates are:\n  +(::Any, ::Any, !Matched::Any, !Matched::Any...)\n   @ Base operators.jl:587\n  +(!Matched::Complex{Bool}, ::Real)\n   @ Base complex.jl:320\n  +(!Matched::Missing, ::Number)\n   @ Base missing.jl:123\n  ...\n",
     "output_type": "error",
     "traceback": [
      "MethodError: no method matching +(::String, ::Int64)\n",
      "\n",
      "Closest candidates are:\n",
      "  +(::Any, ::Any, !Matched::Any, !Matched::Any...)\n",
      "   @ Base operators.jl:587\n",
      "  +(!Matched::Complex{Bool}, ::Real)\n",
      "   @ Base complex.jl:320\n",
      "  +(!Matched::Missing, ::Number)\n",
      "   @ Base missing.jl:123\n",
      "  ...\n",
      "\n",
      "\n",
      "Stacktrace:\n",
      " [1] ex(x::String)\n",
      "   @ Main c:\\Users\\blue8\\OneDrive\\Área de Trabalho\\Métodos\\NumericalAnalysis\\docs\\lecture_2.ipynb:2\n",
      " [2] top-level scope\n",
      "   @ c:\\Users\\blue8\\OneDrive\\Área de Trabalho\\Métodos\\NumericalAnalysis\\docs\\lecture_2.ipynb:1"
     ]
    }
   ],
   "source": [
    "ex(\"Abc\")"
   ]
  },
  {
   "cell_type": "markdown",
   "metadata": {},
   "source": [
    "Veja que, ao utilizar a função ex com valores de tipo Int e Float, temos resultados de tipo Int e Float, mas a função não funciona com valores de tipo string, pois não há uma maneira (pelo menos não trivialmente) de somar palavras com um número.\n",
    "\n",
    "Dito isso, podemos definir comportamentos diferentes para a função ex dependendo do tipo da entrada que damos para ela."
   ]
  },
  {
   "cell_type": "code",
   "execution_count": 10,
   "metadata": {},
   "outputs": [
    {
     "data": {
      "text/plain": [
       "ex (generic function with 2 methods)"
      ]
     },
     "metadata": {},
     "output_type": "display_data"
    }
   ],
   "source": [
    "function ex(x::Int64)\n",
    "    return x - 1\n",
    "end"
   ]
  },
  {
   "cell_type": "code",
   "execution_count": 11,
   "metadata": {},
   "outputs": [
    {
     "data": {
      "text/plain": [
       "ex (generic function with 3 methods)"
      ]
     },
     "metadata": {},
     "output_type": "display_data"
    }
   ],
   "source": [
    "function ex(x::String)\n",
    "    return \"Você digitou \"*x\n",
    "end"
   ]
  },
  {
   "cell_type": "code",
   "execution_count": 12,
   "metadata": {},
   "outputs": [
    {
     "data": {
      "text/plain": [
       "6.0"
      ]
     },
     "metadata": {},
     "output_type": "display_data"
    }
   ],
   "source": [
    "ex(5.0)"
   ]
  },
  {
   "cell_type": "code",
   "execution_count": 13,
   "metadata": {},
   "outputs": [
    {
     "data": {
      "text/plain": [
       "4"
      ]
     },
     "metadata": {},
     "output_type": "display_data"
    }
   ],
   "source": [
    "ex(5)"
   ]
  },
  {
   "cell_type": "code",
   "execution_count": 14,
   "metadata": {},
   "outputs": [
    {
     "data": {
      "text/plain": [
       "\"Você digitou yappers\""
      ]
     },
     "metadata": {},
     "output_type": "display_data"
    }
   ],
   "source": [
    "ex(\"yappers\")"
   ]
  },
  {
   "cell_type": "markdown",
   "metadata": {},
   "source": [
    "**Composição de funções**\n",
    "\n",
    "Considere as dues funções a seguir"
   ]
  },
  {
   "cell_type": "code",
   "execution_count": 15,
   "metadata": {},
   "outputs": [
    {
     "data": {
      "text/plain": [
       "g (generic function with 1 method)"
      ]
     },
     "metadata": {},
     "output_type": "display_data"
    }
   ],
   "source": [
    "f(x::Float64) = 2*x\n",
    "g(x::Float64) = x + 5"
   ]
  },
  {
   "cell_type": "markdown",
   "metadata": {},
   "source": [
    "Podemos realizar a composição $f \\circ g = f(g(x))$ de duas formas: "
   ]
  },
  {
   "cell_type": "code",
   "execution_count": 16,
   "metadata": {},
   "outputs": [
    {
     "data": {
      "text/plain": [
       "14.0"
      ]
     },
     "metadata": {},
     "output_type": "display_data"
    }
   ],
   "source": [
    "f(g(2.0))"
   ]
  },
  {
   "cell_type": "code",
   "execution_count": 17,
   "metadata": {},
   "outputs": [
    {
     "data": {
      "text/plain": [
       "14.0"
      ]
     },
     "metadata": {},
     "output_type": "display_data"
    }
   ],
   "source": [
    "2.0 |> g |> f"
   ]
  },
  {
   "cell_type": "markdown",
   "metadata": {},
   "source": [
    "**Operadores e operadores lógicos**\n",
    "\n",
    "Considere as seguintes variáveis"
   ]
  },
  {
   "cell_type": "code",
   "execution_count": 18,
   "metadata": {},
   "outputs": [
    {
     "data": {
      "text/plain": [
       "3.0"
      ]
     },
     "metadata": {},
     "output_type": "display_data"
    }
   ],
   "source": [
    "x = 3\n",
    "y = 3.0"
   ]
  },
  {
   "cell_type": "markdown",
   "metadata": {},
   "source": [
    "A seguir temos alguns operadores que irão realizar algumas comparações entre $x$ e $y$ e retornar valores de verdade \"true\" ou \"false\". Antes, segue um pequeno glossário do propósito de cada um:\n",
    "\n",
    "!= : retorna true se $x$ e $y$ não são iguais\n",
    "\n",
    "== : retorna true se $x$ e $y$ são (numericamente) iguais\n",
    "\n",
    "=== : retorna true se $x$ e $y$ são (numericamente) iguais *e* do mesmo tipo\n",
    "\n",
    "\\ne (≠) : mesmo que !=\n",
    "\n",
    "\">\" : retorna true se $x$ é estritamente maior que $y$\n",
    "\n",
    "\\geq (≥) : retorna true se $x$ é maior ou igual a $y$\n",
    "\n",
    "\"<\" : retorna true se $x$ é estritamente menor que $y$\n",
    "\n",
    "\\leq (≤) : retorna true se $x$ é menor ou igual a $y$"
   ]
  },
  {
   "cell_type": "code",
   "execution_count": 19,
   "metadata": {},
   "outputs": [
    {
     "data": {
      "text/plain": [
       "false"
      ]
     },
     "metadata": {},
     "output_type": "display_data"
    }
   ],
   "source": [
    "x != y"
   ]
  },
  {
   "cell_type": "code",
   "execution_count": 20,
   "metadata": {},
   "outputs": [
    {
     "data": {
      "text/plain": [
       "true"
      ]
     },
     "metadata": {},
     "output_type": "display_data"
    }
   ],
   "source": [
    "x == y"
   ]
  },
  {
   "cell_type": "code",
   "execution_count": 21,
   "metadata": {},
   "outputs": [
    {
     "data": {
      "text/plain": [
       "false"
      ]
     },
     "metadata": {},
     "output_type": "display_data"
    }
   ],
   "source": [
    "x === y"
   ]
  },
  {
   "cell_type": "code",
   "execution_count": 22,
   "metadata": {},
   "outputs": [
    {
     "data": {
      "text/plain": [
       "false"
      ]
     },
     "metadata": {},
     "output_type": "display_data"
    }
   ],
   "source": [
    "x ≠ y"
   ]
  },
  {
   "cell_type": "code",
   "execution_count": 23,
   "metadata": {},
   "outputs": [
    {
     "data": {
      "text/plain": [
       "false"
      ]
     },
     "metadata": {},
     "output_type": "display_data"
    }
   ],
   "source": [
    "x > y"
   ]
  },
  {
   "cell_type": "code",
   "execution_count": 24,
   "metadata": {},
   "outputs": [
    {
     "data": {
      "text/plain": [
       "true"
      ]
     },
     "metadata": {},
     "output_type": "display_data"
    }
   ],
   "source": [
    "x ≥ y"
   ]
  },
  {
   "cell_type": "code",
   "execution_count": 25,
   "metadata": {},
   "outputs": [
    {
     "data": {
      "text/plain": [
       "false"
      ]
     },
     "metadata": {},
     "output_type": "display_data"
    }
   ],
   "source": [
    "x < y"
   ]
  },
  {
   "cell_type": "code",
   "execution_count": 26,
   "metadata": {},
   "outputs": [
    {
     "data": {
      "text/plain": [
       "true"
      ]
     },
     "metadata": {},
     "output_type": "display_data"
    }
   ],
   "source": [
    "x ≤ y"
   ]
  },
  {
   "cell_type": "markdown",
   "metadata": {},
   "source": [
    "Agora, os operadores lógicos trabalham com entradas da forma \"true\" ou \"false\" e realizam operações lógicas (como na lógica proposicional clássica) com tais valores para retornar um valor de verdade. Alguns desses operadores incluem:\n",
    "\n",
    "&& : operador \"e\"\n",
    "\n",
    "|| : operador \"ou\"\n",
    "\n",
    "~ ou ! : operador \"negação\"\n",
    "\n",
    "xor : operador \"ou exclusivo\" (um ou outro, mas não os dois)"
   ]
  },
  {
   "cell_type": "code",
   "execution_count": 27,
   "metadata": {},
   "outputs": [
    {
     "data": {
      "text/plain": [
       "false"
      ]
     },
     "metadata": {},
     "output_type": "display_data"
    }
   ],
   "source": [
    "tr = true\n",
    "fa = false"
   ]
  },
  {
   "cell_type": "code",
   "execution_count": 28,
   "metadata": {},
   "outputs": [
    {
     "data": {
      "text/plain": [
       "true"
      ]
     },
     "metadata": {},
     "output_type": "display_data"
    }
   ],
   "source": [
    "tr && tr"
   ]
  },
  {
   "cell_type": "code",
   "execution_count": 29,
   "metadata": {},
   "outputs": [
    {
     "data": {
      "text/plain": [
       "false"
      ]
     },
     "metadata": {},
     "output_type": "display_data"
    }
   ],
   "source": [
    "tr && fa"
   ]
  },
  {
   "cell_type": "code",
   "execution_count": 30,
   "metadata": {},
   "outputs": [
    {
     "data": {
      "text/plain": [
       "true"
      ]
     },
     "metadata": {},
     "output_type": "display_data"
    }
   ],
   "source": [
    "tr || fa"
   ]
  },
  {
   "cell_type": "code",
   "execution_count": 31,
   "metadata": {},
   "outputs": [
    {
     "data": {
      "text/plain": [
       "true"
      ]
     },
     "metadata": {},
     "output_type": "display_data"
    }
   ],
   "source": [
    "!fa"
   ]
  },
  {
   "cell_type": "code",
   "execution_count": 32,
   "metadata": {},
   "outputs": [
    {
     "data": {
      "text/plain": [
       "true"
      ]
     },
     "metadata": {},
     "output_type": "display_data"
    }
   ],
   "source": [
    "xor(tr,fa)"
   ]
  },
  {
   "cell_type": "markdown",
   "metadata": {},
   "source": [
    "**Fluxo de uma função e recursão**\n",
    "\n",
    "No corpo do código de uma função, podemos utilizar os comandos \"if\" e \"else\" para fazer com que certo processo seja executado enquanto uma condição for verdadeira. Considere a seguinte função como exemplo:"
   ]
  },
  {
   "cell_type": "code",
   "execution_count": 33,
   "metadata": {},
   "outputs": [
    {
     "data": {
      "text/plain": [
       "flux (generic function with 1 method)"
      ]
     },
     "metadata": {},
     "output_type": "display_data"
    }
   ],
   "source": [
    "function flux(x::Float64,y::Float64)\n",
    "    if x < y\n",
    "        println(\"x é estritamente menor do que y\")\n",
    "        return\n",
    "    else\n",
    "        println(\"x não é estritamente menor do que y\")\n",
    "    end\n",
    "end"
   ]
  },
  {
   "cell_type": "code",
   "execution_count": 34,
   "metadata": {},
   "outputs": [
    {
     "name": "stdout",
     "output_type": "stream",
     "text": [
      "x é estritamente menor do que y\n"
     ]
    }
   ],
   "source": [
    "flux(4.7,9.1)"
   ]
  },
  {
   "cell_type": "code",
   "execution_count": 35,
   "metadata": {},
   "outputs": [
    {
     "name": "stdout",
     "output_type": "stream",
     "text": [
      "x não é estritamente menor do que y\n"
     ]
    }
   ],
   "source": [
    "flux(18.5,2.5)"
   ]
  },
  {
   "cell_type": "markdown",
   "metadata": {},
   "source": [
    "A função sempre executará tudo o que estiver dentro do fluxo apropriado antes de passar para o próximo passo. Podemos também usar esses comandos para criar uma recursão: tome a seguinte função como exemplo."
   ]
  },
  {
   "cell_type": "code",
   "execution_count": 36,
   "metadata": {},
   "outputs": [
    {
     "data": {
      "text/plain": [
       "contagem (generic function with 1 method)"
      ]
     },
     "metadata": {},
     "output_type": "display_data"
    }
   ],
   "source": [
    "function contagem(n::Int64)\n",
    "    if n == 0\n",
    "        println(\"Lançar!\")\n",
    "    else\n",
    "        print(n, \" \")\n",
    "        sleep(1)\n",
    "        contagem(n-1)\n",
    "    end\n",
    "end"
   ]
  },
  {
   "cell_type": "code",
   "execution_count": 37,
   "metadata": {},
   "outputs": [
    {
     "name": "stdout",
     "output_type": "stream",
     "text": [
      "10 9 8 7 6 5 4 3 2 1 Lançar!\n"
     ]
    }
   ],
   "source": [
    "contagem(10)"
   ]
  },
  {
   "cell_type": "markdown",
   "metadata": {},
   "source": [
    "A função contagem irá \"chamar\" a si mesma dentro do seu corpo com entrada $n-1$ até que $n$ atinja $0$. Veja que, com isso, podemos fazer funções interessantes, como por exemplo a seguinte função que encontrar o $n$-ésimo termo da sequência de Fibonacci:"
   ]
  },
  {
   "cell_type": "code",
   "execution_count": 44,
   "metadata": {},
   "outputs": [
    {
     "data": {
      "text/plain": [
       "fibonacci (generic function with 1 method)"
      ]
     },
     "metadata": {},
     "output_type": "display_data"
    }
   ],
   "source": [
    "function fibonacci(n::Int64)\n",
    "    a_1 = 1\n",
    "    a_2 = 1\n",
    "    if n == 1\n",
    "        return a_1\n",
    "    elseif n == 2\n",
    "        return a_2\n",
    "    else\n",
    "        for i = 3:n\n",
    "            a_i = a_1 + a_2\n",
    "            a_1 = a_2\n",
    "            a_2 = a_i\n",
    "        end\n",
    "        return a_2\n",
    "    end\n",
    "\n",
    "end"
   ]
  },
  {
   "cell_type": "code",
   "execution_count": 46,
   "metadata": {},
   "outputs": [
    {
     "data": {
      "text/plain": [
       "55"
      ]
     },
     "metadata": {},
     "output_type": "display_data"
    }
   ],
   "source": [
    "fibonacci(10)"
   ]
  }
 ],
 "metadata": {
  "kernelspec": {
   "display_name": "Julia 1.10.2",
   "language": "julia",
   "name": "julia-1.10"
  },
  "language_info": {
   "file_extension": ".jl",
   "mimetype": "application/julia",
   "name": "julia",
   "version": "1.10.2"
  }
 },
 "nbformat": 4,
 "nbformat_minor": 2
}
